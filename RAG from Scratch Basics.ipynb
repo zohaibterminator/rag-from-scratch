{
 "cells": [
  {
   "cell_type": "code",
   "execution_count": 51,
   "metadata": {},
   "outputs": [
    {
     "name": "stdout",
     "output_type": "stream",
     "text": [
      "Requirement already satisfied: langchain_community==0.2.6 in c:\\users\\shahe\\anaconda3\\envs\\rag_from_scratch\\lib\\site-packages (0.2.6)\n",
      "Requirement already satisfied: tiktoken in c:\\users\\shahe\\anaconda3\\envs\\rag_from_scratch\\lib\\site-packages (0.8.0)\n",
      "Requirement already satisfied: fastembed==0.3.2 in c:\\users\\shahe\\anaconda3\\envs\\rag_from_scratch\\lib\\site-packages (0.3.2)\n",
      "Requirement already satisfied: langchainhub in c:\\users\\shahe\\anaconda3\\envs\\rag_from_scratch\\lib\\site-packages (0.1.21)\n",
      "Requirement already satisfied: chromadb in c:\\users\\shahe\\anaconda3\\envs\\rag_from_scratch\\lib\\site-packages (0.5.11)\n",
      "Requirement already satisfied: langchain in c:\\users\\shahe\\appdata\\roaming\\python\\python312\\site-packages (0.2.10)\n",
      "Requirement already satisfied: bs4 in c:\\users\\shahe\\anaconda3\\envs\\rag_from_scratch\\lib\\site-packages (0.0.2)\n",
      "Requirement already satisfied: langchain-chroma in c:\\users\\shahe\\anaconda3\\envs\\rag_from_scratch\\lib\\site-packages (0.1.4)\n",
      "Requirement already satisfied: langchain-groq in c:\\users\\shahe\\appdata\\roaming\\python\\python312\\site-packages (0.1.6)\n",
      "Requirement already satisfied: PyYAML>=5.3 in c:\\users\\shahe\\appdata\\roaming\\python\\python312\\site-packages (from langchain_community==0.2.6) (6.0.1)\n",
      "Requirement already satisfied: SQLAlchemy<3,>=1.4 in c:\\users\\shahe\\appdata\\roaming\\python\\python312\\site-packages (from langchain_community==0.2.6) (2.0.31)\n",
      "Requirement already satisfied: aiohttp<4.0.0,>=3.8.3 in c:\\users\\shahe\\appdata\\roaming\\python\\python312\\site-packages (from langchain_community==0.2.6) (3.9.5)\n",
      "Requirement already satisfied: dataclasses-json<0.7,>=0.5.7 in c:\\users\\shahe\\appdata\\roaming\\python\\python312\\site-packages (from langchain_community==0.2.6) (0.6.7)\n",
      "Requirement already satisfied: langchain-core<0.3.0,>=0.2.10 in c:\\users\\shahe\\anaconda3\\envs\\rag_from_scratch\\lib\\site-packages (from langchain_community==0.2.6) (0.2.41)\n",
      "Requirement already satisfied: langsmith<0.2.0,>=0.1.0 in c:\\users\\shahe\\anaconda3\\envs\\rag_from_scratch\\lib\\site-packages (from langchain_community==0.2.6) (0.1.131)\n",
      "Requirement already satisfied: numpy<2.0.0,>=1.26.0 in c:\\users\\shahe\\appdata\\roaming\\python\\python312\\site-packages (from langchain_community==0.2.6) (1.26.4)\n",
      "Requirement already satisfied: requests<3,>=2 in c:\\users\\shahe\\appdata\\roaming\\python\\python312\\site-packages (from langchain_community==0.2.6) (2.32.3)\n",
      "Requirement already satisfied: tenacity!=8.4.0,<9.0.0,>=8.1.0 in c:\\users\\shahe\\appdata\\roaming\\python\\python312\\site-packages (from langchain_community==0.2.6) (8.5.0)\n",
      "Requirement already satisfied: PyStemmer<3.0.0,>=2.2.0 in c:\\users\\shahe\\anaconda3\\envs\\rag_from_scratch\\lib\\site-packages (from fastembed==0.3.2) (2.2.0.1)\n",
      "Requirement already satisfied: huggingface-hub<1.0,>=0.20 in c:\\users\\shahe\\appdata\\roaming\\python\\python312\\site-packages (from fastembed==0.3.2) (0.24.5)\n",
      "Requirement already satisfied: loguru<0.8.0,>=0.7.2 in c:\\users\\shahe\\anaconda3\\envs\\rag_from_scratch\\lib\\site-packages (from fastembed==0.3.2) (0.7.2)\n",
      "Requirement already satisfied: mmh3<5.0,>=4.0 in c:\\users\\shahe\\anaconda3\\envs\\rag_from_scratch\\lib\\site-packages (from fastembed==0.3.2) (4.1.0)\n",
      "Requirement already satisfied: onnx<2.0.0,>=1.15.0 in c:\\users\\shahe\\anaconda3\\envs\\rag_from_scratch\\lib\\site-packages (from fastembed==0.3.2) (1.17.0)\n",
      "Requirement already satisfied: onnxruntime<2.0.0,>=1.17.0 in c:\\users\\shahe\\anaconda3\\envs\\rag_from_scratch\\lib\\site-packages (from fastembed==0.3.2) (1.19.2)\n",
      "Requirement already satisfied: pillow<11.0.0,>=10.3.0 in c:\\users\\shahe\\appdata\\roaming\\python\\python312\\site-packages (from fastembed==0.3.2) (10.4.0)\n",
      "Requirement already satisfied: snowballstemmer<3.0.0,>=2.2.0 in c:\\users\\shahe\\anaconda3\\envs\\rag_from_scratch\\lib\\site-packages (from fastembed==0.3.2) (2.2.0)\n",
      "Requirement already satisfied: tokenizers<1.0,>=0.15 in c:\\users\\shahe\\appdata\\roaming\\python\\python312\\site-packages (from fastembed==0.3.2) (0.19.1)\n",
      "Requirement already satisfied: tqdm<5.0,>=4.66 in c:\\users\\shahe\\appdata\\roaming\\python\\python312\\site-packages (from fastembed==0.3.2) (4.66.4)\n",
      "Requirement already satisfied: regex>=2022.1.18 in c:\\users\\shahe\\appdata\\roaming\\python\\python312\\site-packages (from tiktoken) (2024.7.24)\n",
      "Requirement already satisfied: packaging<25,>=23.2 in c:\\users\\shahe\\appdata\\roaming\\python\\python312\\site-packages (from langchainhub) (24.1)\n",
      "Requirement already satisfied: types-requests<3.0.0.0,>=2.31.0.2 in c:\\users\\shahe\\anaconda3\\envs\\rag_from_scratch\\lib\\site-packages (from langchainhub) (2.32.0.20240914)\n",
      "Requirement already satisfied: build>=1.0.3 in c:\\users\\shahe\\anaconda3\\envs\\rag_from_scratch\\lib\\site-packages (from chromadb) (1.2.2)\n",
      "Requirement already satisfied: pydantic>=1.9 in c:\\users\\shahe\\appdata\\roaming\\python\\python312\\site-packages (from chromadb) (2.8.2)\n",
      "Requirement already satisfied: chroma-hnswlib==0.7.6 in c:\\users\\shahe\\anaconda3\\envs\\rag_from_scratch\\lib\\site-packages (from chromadb) (0.7.6)\n",
      "Requirement already satisfied: fastapi>=0.95.2 in c:\\users\\shahe\\appdata\\roaming\\python\\python312\\site-packages (from chromadb) (0.111.1)\n",
      "Requirement already satisfied: uvicorn>=0.18.3 in c:\\users\\shahe\\appdata\\roaming\\python\\python312\\site-packages (from uvicorn[standard]>=0.18.3->chromadb) (0.30.3)\n",
      "Requirement already satisfied: posthog>=2.4.0 in c:\\users\\shahe\\anaconda3\\envs\\rag_from_scratch\\lib\\site-packages (from chromadb) (3.7.0)\n",
      "Requirement already satisfied: typing-extensions>=4.5.0 in c:\\users\\shahe\\appdata\\roaming\\python\\python312\\site-packages (from chromadb) (4.12.2)\n",
      "Requirement already satisfied: opentelemetry-api>=1.2.0 in c:\\users\\shahe\\anaconda3\\envs\\rag_from_scratch\\lib\\site-packages (from chromadb) (1.27.0)\n",
      "Requirement already satisfied: opentelemetry-exporter-otlp-proto-grpc>=1.2.0 in c:\\users\\shahe\\anaconda3\\envs\\rag_from_scratch\\lib\\site-packages (from chromadb) (1.27.0)\n",
      "Requirement already satisfied: opentelemetry-instrumentation-fastapi>=0.41b0 in c:\\users\\shahe\\anaconda3\\envs\\rag_from_scratch\\lib\\site-packages (from chromadb) (0.48b0)\n",
      "Requirement already satisfied: opentelemetry-sdk>=1.2.0 in c:\\users\\shahe\\anaconda3\\envs\\rag_from_scratch\\lib\\site-packages (from chromadb) (1.27.0)\n",
      "Requirement already satisfied: pypika>=0.48.9 in c:\\users\\shahe\\anaconda3\\envs\\rag_from_scratch\\lib\\site-packages (from chromadb) (0.48.9)\n",
      "Requirement already satisfied: overrides>=7.3.1 in c:\\users\\shahe\\anaconda3\\envs\\rag_from_scratch\\lib\\site-packages (from chromadb) (7.7.0)\n",
      "Requirement already satisfied: importlib-resources in c:\\users\\shahe\\appdata\\roaming\\python\\python312\\site-packages (from chromadb) (6.4.0)\n",
      "Requirement already satisfied: grpcio>=1.58.0 in c:\\users\\shahe\\appdata\\roaming\\python\\python312\\site-packages (from chromadb) (1.65.2)\n",
      "Requirement already satisfied: bcrypt>=4.0.1 in c:\\users\\shahe\\anaconda3\\envs\\rag_from_scratch\\lib\\site-packages (from chromadb) (4.2.0)\n",
      "Requirement already satisfied: typer>=0.9.0 in c:\\users\\shahe\\appdata\\roaming\\python\\python312\\site-packages (from chromadb) (0.12.3)\n",
      "Requirement already satisfied: kubernetes>=28.1.0 in c:\\users\\shahe\\anaconda3\\envs\\rag_from_scratch\\lib\\site-packages (from chromadb) (31.0.0)\n",
      "Requirement already satisfied: orjson>=3.9.12 in c:\\users\\shahe\\appdata\\roaming\\python\\python312\\site-packages (from chromadb) (3.10.6)\n",
      "Requirement already satisfied: httpx>=0.27.0 in c:\\users\\shahe\\appdata\\roaming\\python\\python312\\site-packages (from chromadb) (0.27.0)\n",
      "Requirement already satisfied: rich>=10.11.0 in c:\\users\\shahe\\appdata\\roaming\\python\\python312\\site-packages (from chromadb) (13.7.1)\n",
      "Requirement already satisfied: langchain-text-splitters<0.3.0,>=0.2.0 in c:\\users\\shahe\\appdata\\roaming\\python\\python312\\site-packages (from langchain) (0.2.2)\n",
      "Requirement already satisfied: beautifulsoup4 in c:\\users\\shahe\\anaconda3\\envs\\rag_from_scratch\\lib\\site-packages (from bs4) (4.12.3)\n",
      "Requirement already satisfied: groq<1,>=0.4.1 in c:\\users\\shahe\\appdata\\roaming\\python\\python312\\site-packages (from langchain-groq) (0.9.0)\n",
      "Requirement already satisfied: aiosignal>=1.1.2 in c:\\users\\shahe\\appdata\\roaming\\python\\python312\\site-packages (from aiohttp<4.0.0,>=3.8.3->langchain_community==0.2.6) (1.3.1)\n",
      "Requirement already satisfied: attrs>=17.3.0 in c:\\users\\shahe\\appdata\\roaming\\python\\python312\\site-packages (from aiohttp<4.0.0,>=3.8.3->langchain_community==0.2.6) (23.2.0)\n",
      "Requirement already satisfied: frozenlist>=1.1.1 in c:\\users\\shahe\\appdata\\roaming\\python\\python312\\site-packages (from aiohttp<4.0.0,>=3.8.3->langchain_community==0.2.6) (1.4.1)\n",
      "Requirement already satisfied: multidict<7.0,>=4.5 in c:\\users\\shahe\\appdata\\roaming\\python\\python312\\site-packages (from aiohttp<4.0.0,>=3.8.3->langchain_community==0.2.6) (6.0.5)\n",
      "Requirement already satisfied: yarl<2.0,>=1.0 in c:\\users\\shahe\\appdata\\roaming\\python\\python312\\site-packages (from aiohttp<4.0.0,>=3.8.3->langchain_community==0.2.6) (1.9.4)\n",
      "Requirement already satisfied: pyproject_hooks in c:\\users\\shahe\\anaconda3\\envs\\rag_from_scratch\\lib\\site-packages (from build>=1.0.3->chromadb) (1.2.0)\n",
      "Requirement already satisfied: colorama in c:\\users\\shahe\\appdata\\roaming\\python\\python312\\site-packages (from build>=1.0.3->chromadb) (0.4.6)\n",
      "Requirement already satisfied: marshmallow<4.0.0,>=3.18.0 in c:\\users\\shahe\\appdata\\roaming\\python\\python312\\site-packages (from dataclasses-json<0.7,>=0.5.7->langchain_community==0.2.6) (3.21.3)\n",
      "Requirement already satisfied: typing-inspect<1,>=0.4.0 in c:\\users\\shahe\\appdata\\roaming\\python\\python312\\site-packages (from dataclasses-json<0.7,>=0.5.7->langchain_community==0.2.6) (0.9.0)\n",
      "Requirement already satisfied: starlette<0.38.0,>=0.37.2 in c:\\users\\shahe\\appdata\\roaming\\python\\python312\\site-packages (from fastapi>=0.95.2->chromadb) (0.37.2)\n",
      "Requirement already satisfied: fastapi-cli>=0.0.2 in c:\\users\\shahe\\appdata\\roaming\\python\\python312\\site-packages (from fastapi>=0.95.2->chromadb) (0.0.4)\n",
      "Requirement already satisfied: jinja2>=2.11.2 in c:\\users\\shahe\\appdata\\roaming\\python\\python312\\site-packages (from fastapi>=0.95.2->chromadb) (3.1.4)\n",
      "Requirement already satisfied: python-multipart>=0.0.7 in c:\\users\\shahe\\appdata\\roaming\\python\\python312\\site-packages (from fastapi>=0.95.2->chromadb) (0.0.9)\n",
      "Requirement already satisfied: email_validator>=2.0.0 in c:\\users\\shahe\\appdata\\roaming\\python\\python312\\site-packages (from fastapi>=0.95.2->chromadb) (2.2.0)\n",
      "Requirement already satisfied: anyio<5,>=3.5.0 in c:\\users\\shahe\\appdata\\roaming\\python\\python312\\site-packages (from groq<1,>=0.4.1->langchain-groq) (4.4.0)\n",
      "Requirement already satisfied: distro<2,>=1.7.0 in c:\\users\\shahe\\appdata\\roaming\\python\\python312\\site-packages (from groq<1,>=0.4.1->langchain-groq) (1.9.0)\n",
      "Requirement already satisfied: sniffio in c:\\users\\shahe\\appdata\\roaming\\python\\python312\\site-packages (from groq<1,>=0.4.1->langchain-groq) (1.3.1)\n",
      "Requirement already satisfied: certifi in c:\\users\\shahe\\appdata\\roaming\\python\\python312\\site-packages (from httpx>=0.27.0->chromadb) (2024.7.4)\n",
      "Requirement already satisfied: httpcore==1.* in c:\\users\\shahe\\appdata\\roaming\\python\\python312\\site-packages (from httpx>=0.27.0->chromadb) (1.0.5)\n",
      "Requirement already satisfied: idna in c:\\users\\shahe\\appdata\\roaming\\python\\python312\\site-packages (from httpx>=0.27.0->chromadb) (3.7)\n",
      "Requirement already satisfied: h11<0.15,>=0.13 in c:\\users\\shahe\\appdata\\roaming\\python\\python312\\site-packages (from httpcore==1.*->httpx>=0.27.0->chromadb) (0.14.0)\n",
      "Requirement already satisfied: filelock in c:\\users\\shahe\\appdata\\roaming\\python\\python312\\site-packages (from huggingface-hub<1.0,>=0.20->fastembed==0.3.2) (3.15.4)\n",
      "Requirement already satisfied: fsspec>=2023.5.0 in c:\\users\\shahe\\appdata\\roaming\\python\\python312\\site-packages (from huggingface-hub<1.0,>=0.20->fastembed==0.3.2) (2024.6.1)\n",
      "Requirement already satisfied: six>=1.9.0 in c:\\users\\shahe\\appdata\\roaming\\python\\python312\\site-packages (from kubernetes>=28.1.0->chromadb) (1.16.0)\n",
      "Requirement already satisfied: python-dateutil>=2.5.3 in c:\\users\\shahe\\appdata\\roaming\\python\\python312\\site-packages (from kubernetes>=28.1.0->chromadb) (2.9.0.post0)\n",
      "Requirement already satisfied: google-auth>=1.0.1 in c:\\users\\shahe\\anaconda3\\envs\\rag_from_scratch\\lib\\site-packages (from kubernetes>=28.1.0->chromadb) (2.35.0)\n",
      "Requirement already satisfied: websocket-client!=0.40.0,!=0.41.*,!=0.42.*,>=0.32.0 in c:\\users\\shahe\\anaconda3\\envs\\rag_from_scratch\\lib\\site-packages (from kubernetes>=28.1.0->chromadb) (1.8.0)\n",
      "Requirement already satisfied: requests-oauthlib in c:\\users\\shahe\\anaconda3\\envs\\rag_from_scratch\\lib\\site-packages (from kubernetes>=28.1.0->chromadb) (2.0.0)\n",
      "Requirement already satisfied: oauthlib>=3.2.2 in c:\\users\\shahe\\anaconda3\\envs\\rag_from_scratch\\lib\\site-packages (from kubernetes>=28.1.0->chromadb) (3.2.2)\n",
      "Requirement already satisfied: urllib3>=1.24.2 in c:\\users\\shahe\\appdata\\roaming\\python\\python312\\site-packages (from kubernetes>=28.1.0->chromadb) (2.2.2)\n",
      "Requirement already satisfied: durationpy>=0.7 in c:\\users\\shahe\\anaconda3\\envs\\rag_from_scratch\\lib\\site-packages (from kubernetes>=28.1.0->chromadb) (0.9)\n",
      "Requirement already satisfied: jsonpatch<2.0,>=1.33 in c:\\users\\shahe\\appdata\\roaming\\python\\python312\\site-packages (from langchain-core<0.3.0,>=0.2.10->langchain_community==0.2.6) (1.33)\n",
      "Requirement already satisfied: requests-toolbelt<2.0.0,>=1.0.0 in c:\\users\\shahe\\anaconda3\\envs\\rag_from_scratch\\lib\\site-packages (from langsmith<0.2.0,>=0.1.0->langchain_community==0.2.6) (1.0.0)\n",
      "Requirement already satisfied: win32-setctime>=1.0.0 in c:\\users\\shahe\\anaconda3\\envs\\rag_from_scratch\\lib\\site-packages (from loguru<0.8.0,>=0.7.2->fastembed==0.3.2) (1.1.0)\n",
      "Requirement already satisfied: protobuf>=3.20.2 in c:\\users\\shahe\\appdata\\roaming\\python\\python312\\site-packages (from onnx<2.0.0,>=1.15.0->fastembed==0.3.2) (4.25.4)\n",
      "Requirement already satisfied: coloredlogs in c:\\users\\shahe\\anaconda3\\envs\\rag_from_scratch\\lib\\site-packages (from onnxruntime<2.0.0,>=1.17.0->fastembed==0.3.2) (15.0.1)\n",
      "Requirement already satisfied: flatbuffers in c:\\users\\shahe\\appdata\\roaming\\python\\python312\\site-packages (from onnxruntime<2.0.0,>=1.17.0->fastembed==0.3.2) (24.3.25)\n",
      "Requirement already satisfied: sympy in c:\\users\\shahe\\appdata\\roaming\\python\\python312\\site-packages (from onnxruntime<2.0.0,>=1.17.0->fastembed==0.3.2) (1.13.1)\n",
      "Requirement already satisfied: deprecated>=1.2.6 in c:\\users\\shahe\\anaconda3\\envs\\rag_from_scratch\\lib\\site-packages (from opentelemetry-api>=1.2.0->chromadb) (1.2.14)\n",
      "Requirement already satisfied: importlib-metadata<=8.4.0,>=6.0 in c:\\users\\shahe\\anaconda3\\envs\\rag_from_scratch\\lib\\site-packages (from opentelemetry-api>=1.2.0->chromadb) (8.4.0)\n",
      "Requirement already satisfied: googleapis-common-protos~=1.52 in c:\\users\\shahe\\appdata\\roaming\\python\\python312\\site-packages (from opentelemetry-exporter-otlp-proto-grpc>=1.2.0->chromadb) (1.63.2)\n",
      "Requirement already satisfied: opentelemetry-exporter-otlp-proto-common==1.27.0 in c:\\users\\shahe\\anaconda3\\envs\\rag_from_scratch\\lib\\site-packages (from opentelemetry-exporter-otlp-proto-grpc>=1.2.0->chromadb) (1.27.0)\n",
      "Requirement already satisfied: opentelemetry-proto==1.27.0 in c:\\users\\shahe\\anaconda3\\envs\\rag_from_scratch\\lib\\site-packages (from opentelemetry-exporter-otlp-proto-grpc>=1.2.0->chromadb) (1.27.0)\n",
      "Requirement already satisfied: opentelemetry-instrumentation-asgi==0.48b0 in c:\\users\\shahe\\anaconda3\\envs\\rag_from_scratch\\lib\\site-packages (from opentelemetry-instrumentation-fastapi>=0.41b0->chromadb) (0.48b0)\n",
      "Requirement already satisfied: opentelemetry-instrumentation==0.48b0 in c:\\users\\shahe\\anaconda3\\envs\\rag_from_scratch\\lib\\site-packages (from opentelemetry-instrumentation-fastapi>=0.41b0->chromadb) (0.48b0)\n",
      "Requirement already satisfied: opentelemetry-semantic-conventions==0.48b0 in c:\\users\\shahe\\anaconda3\\envs\\rag_from_scratch\\lib\\site-packages (from opentelemetry-instrumentation-fastapi>=0.41b0->chromadb) (0.48b0)\n",
      "Requirement already satisfied: opentelemetry-util-http==0.48b0 in c:\\users\\shahe\\anaconda3\\envs\\rag_from_scratch\\lib\\site-packages (from opentelemetry-instrumentation-fastapi>=0.41b0->chromadb) (0.48b0)\n",
      "Requirement already satisfied: setuptools>=16.0 in c:\\users\\shahe\\appdata\\roaming\\python\\python312\\site-packages (from opentelemetry-instrumentation==0.48b0->opentelemetry-instrumentation-fastapi>=0.41b0->chromadb) (72.1.0)\n",
      "Requirement already satisfied: wrapt<2.0.0,>=1.0.0 in c:\\users\\shahe\\appdata\\roaming\\python\\python312\\site-packages (from opentelemetry-instrumentation==0.48b0->opentelemetry-instrumentation-fastapi>=0.41b0->chromadb) (1.16.0)\n",
      "Requirement already satisfied: asgiref~=3.0 in c:\\users\\shahe\\anaconda3\\envs\\rag_from_scratch\\lib\\site-packages (from opentelemetry-instrumentation-asgi==0.48b0->opentelemetry-instrumentation-fastapi>=0.41b0->chromadb) (3.8.1)\n",
      "Requirement already satisfied: monotonic>=1.5 in c:\\users\\shahe\\anaconda3\\envs\\rag_from_scratch\\lib\\site-packages (from posthog>=2.4.0->chromadb) (1.6)\n",
      "Requirement already satisfied: backoff>=1.10.0 in c:\\users\\shahe\\anaconda3\\envs\\rag_from_scratch\\lib\\site-packages (from posthog>=2.4.0->chromadb) (2.2.1)\n",
      "Requirement already satisfied: annotated-types>=0.4.0 in c:\\users\\shahe\\appdata\\roaming\\python\\python312\\site-packages (from pydantic>=1.9->chromadb) (0.7.0)\n",
      "Requirement already satisfied: pydantic-core==2.20.1 in c:\\users\\shahe\\appdata\\roaming\\python\\python312\\site-packages (from pydantic>=1.9->chromadb) (2.20.1)\n",
      "Requirement already satisfied: charset-normalizer<4,>=2 in c:\\users\\shahe\\appdata\\roaming\\python\\python312\\site-packages (from requests<3,>=2->langchain_community==0.2.6) (3.3.2)\n",
      "Requirement already satisfied: markdown-it-py>=2.2.0 in c:\\users\\shahe\\appdata\\roaming\\python\\python312\\site-packages (from rich>=10.11.0->chromadb) (3.0.0)\n",
      "Requirement already satisfied: pygments<3.0.0,>=2.13.0 in c:\\users\\shahe\\appdata\\roaming\\python\\python312\\site-packages (from rich>=10.11.0->chromadb) (2.18.0)\n",
      "Requirement already satisfied: greenlet!=0.4.17 in c:\\users\\shahe\\appdata\\roaming\\python\\python312\\site-packages (from SQLAlchemy<3,>=1.4->langchain_community==0.2.6) (3.0.3)\n",
      "Requirement already satisfied: click>=8.0.0 in c:\\users\\shahe\\appdata\\roaming\\python\\python312\\site-packages (from typer>=0.9.0->chromadb) (8.1.7)\n",
      "Requirement already satisfied: shellingham>=1.3.0 in c:\\users\\shahe\\appdata\\roaming\\python\\python312\\site-packages (from typer>=0.9.0->chromadb) (1.5.4)\n",
      "Requirement already satisfied: httptools>=0.5.0 in c:\\users\\shahe\\appdata\\roaming\\python\\python312\\site-packages (from uvicorn[standard]>=0.18.3->chromadb) (0.6.1)\n",
      "Requirement already satisfied: python-dotenv>=0.13 in c:\\users\\shahe\\appdata\\roaming\\python\\python312\\site-packages (from uvicorn[standard]>=0.18.3->chromadb) (1.0.1)\n",
      "Requirement already satisfied: watchfiles>=0.13 in c:\\users\\shahe\\appdata\\roaming\\python\\python312\\site-packages (from uvicorn[standard]>=0.18.3->chromadb) (0.22.0)\n",
      "Requirement already satisfied: websockets>=10.4 in c:\\users\\shahe\\appdata\\roaming\\python\\python312\\site-packages (from uvicorn[standard]>=0.18.3->chromadb) (12.0)\n",
      "Requirement already satisfied: soupsieve>1.2 in c:\\users\\shahe\\anaconda3\\envs\\rag_from_scratch\\lib\\site-packages (from beautifulsoup4->bs4) (2.6)\n",
      "Requirement already satisfied: dnspython>=2.0.0 in c:\\users\\shahe\\appdata\\roaming\\python\\python312\\site-packages (from email_validator>=2.0.0->fastapi>=0.95.2->chromadb) (2.6.1)\n",
      "Requirement already satisfied: cachetools<6.0,>=2.0.0 in c:\\users\\shahe\\appdata\\roaming\\python\\python312\\site-packages (from google-auth>=1.0.1->kubernetes>=28.1.0->chromadb) (5.4.0)\n",
      "Requirement already satisfied: pyasn1-modules>=0.2.1 in c:\\users\\shahe\\anaconda3\\envs\\rag_from_scratch\\lib\\site-packages (from google-auth>=1.0.1->kubernetes>=28.1.0->chromadb) (0.4.1)\n",
      "Requirement already satisfied: rsa<5,>=3.1.4 in c:\\users\\shahe\\anaconda3\\envs\\rag_from_scratch\\lib\\site-packages (from google-auth>=1.0.1->kubernetes>=28.1.0->chromadb) (4.9)\n",
      "Requirement already satisfied: zipp>=0.5 in c:\\users\\shahe\\appdata\\roaming\\python\\python312\\site-packages (from importlib-metadata<=8.4.0,>=6.0->opentelemetry-api>=1.2.0->chromadb) (3.19.2)\n",
      "Requirement already satisfied: MarkupSafe>=2.0 in c:\\users\\shahe\\appdata\\roaming\\python\\python312\\site-packages (from jinja2>=2.11.2->fastapi>=0.95.2->chromadb) (2.1.5)\n",
      "Requirement already satisfied: jsonpointer>=1.9 in c:\\users\\shahe\\appdata\\roaming\\python\\python312\\site-packages (from jsonpatch<2.0,>=1.33->langchain-core<0.3.0,>=0.2.10->langchain_community==0.2.6) (3.0.0)\n",
      "Requirement already satisfied: mdurl~=0.1 in c:\\users\\shahe\\appdata\\roaming\\python\\python312\\site-packages (from markdown-it-py>=2.2.0->rich>=10.11.0->chromadb) (0.1.2)\n",
      "Requirement already satisfied: mypy-extensions>=0.3.0 in c:\\users\\shahe\\appdata\\roaming\\python\\python312\\site-packages (from typing-inspect<1,>=0.4.0->dataclasses-json<0.7,>=0.5.7->langchain_community==0.2.6) (1.0.0)\n",
      "Requirement already satisfied: humanfriendly>=9.1 in c:\\users\\shahe\\anaconda3\\envs\\rag_from_scratch\\lib\\site-packages (from coloredlogs->onnxruntime<2.0.0,>=1.17.0->fastembed==0.3.2) (10.0)\n",
      "Requirement already satisfied: mpmath<1.4,>=1.1.0 in c:\\users\\shahe\\appdata\\roaming\\python\\python312\\site-packages (from sympy->onnxruntime<2.0.0,>=1.17.0->fastembed==0.3.2) (1.3.0)\n",
      "Requirement already satisfied: pyreadline3 in c:\\users\\shahe\\anaconda3\\envs\\rag_from_scratch\\lib\\site-packages (from humanfriendly>=9.1->coloredlogs->onnxruntime<2.0.0,>=1.17.0->fastembed==0.3.2) (3.5.4)\n",
      "Requirement already satisfied: pyasn1<0.7.0,>=0.4.6 in c:\\users\\shahe\\anaconda3\\envs\\rag_from_scratch\\lib\\site-packages (from pyasn1-modules>=0.2.1->google-auth>=1.0.1->kubernetes>=28.1.0->chromadb) (0.6.1)\n"
     ]
    }
   ],
   "source": [
    "!pip install langchain_community==0.2.6 tiktoken fastembed==0.3.2 langchainhub chromadb langchain bs4 langchain-chroma langchain-groq"
   ]
  },
  {
   "cell_type": "code",
   "execution_count": 69,
   "metadata": {},
   "outputs": [
    {
     "data": {
      "text/plain": [
       "True"
      ]
     },
     "execution_count": 69,
     "metadata": {},
     "output_type": "execute_result"
    }
   ],
   "source": [
    "import os\n",
    "from dotenv import load_dotenv\n",
    "\n",
    "load_dotenv()"
   ]
  },
  {
   "cell_type": "code",
   "execution_count": 70,
   "metadata": {},
   "outputs": [],
   "source": [
    "LANGCHAIN_API_KEY=os.getenv('LANGCHAIN_API_KEY')\n",
    "LANGCHAIN_TRACING_V2=os.getenv('LANGCHAIN_TRACING_V2')\n",
    "LANGCHAIN_ENDPOINT=os.getenv('LANGCHAIN_ENDPOINT')\n",
    "GROQ_API_KEY=os.getenv('GROQ_API_KEY')"
   ]
  },
  {
   "cell_type": "markdown",
   "metadata": {},
   "source": [
    "## RAG System: Indexing, Retrieval, and Generation"
   ]
  },
  {
   "cell_type": "code",
   "execution_count": 57,
   "metadata": {},
   "outputs": [],
   "source": [
    "from langchain_community.embeddings.fastembed import FastEmbedEmbeddings\n",
    "import numpy as np"
   ]
  },
  {
   "cell_type": "code",
   "execution_count": 3,
   "metadata": {},
   "outputs": [],
   "source": [
    "# documents\n",
    "\n",
    "doc1 = \"My name is Zohaib, and I like ice-cream\"\n",
    "doc2 = \"Grass is greener on the other side\"\n",
    "\n",
    "query = \"Zohaib likes green color and ice-cream\""
   ]
  },
  {
   "cell_type": "code",
   "execution_count": 9,
   "metadata": {},
   "outputs": [
    {
     "data": {
      "application/vnd.jupyter.widget-view+json": {
       "model_id": "77c06c59ed5a4ff8820349a12cd2b609",
       "version_major": 2,
       "version_minor": 0
      },
      "text/plain": [
       "Fetching 5 files:   0%|          | 0/5 [00:00<?, ?it/s]"
      ]
     },
     "metadata": {},
     "output_type": "display_data"
    },
    {
     "data": {
      "text/plain": [
       "384"
      ]
     },
     "execution_count": 9,
     "metadata": {},
     "output_type": "execute_result"
    }
   ],
   "source": [
    "# using FastEmbed embeddings to embed the documents\n",
    "# using np.sqeeze to get rid of 1D arrays\n",
    "\n",
    "embd = FastEmbedEmbeddings()\n",
    "query_result = np.squeeze(embd.embed_query(query))\n",
    "doc1_embd = np.squeeze(embd.embed_documents(doc1))\n",
    "doc2_embd = np.squeeze(embd.embed_documents(doc2))\n",
    "len(query_result)"
   ]
  },
  {
   "cell_type": "code",
   "execution_count": 10,
   "metadata": {},
   "outputs": [],
   "source": [
    "# function for finding cosine similarity b/w two vectors\n",
    "\n",
    "def cosine_similarity(vec1, vec2):\n",
    "    dot_prod = np.dot(vec1, vec2)\n",
    "    norm_vec1 = np.linalg.norm(vec1)\n",
    "    norm_vec2 = np.linalg.norm(vec2)\n",
    "    return dot_prod / (norm_vec1 * norm_vec2)"
   ]
  },
  {
   "cell_type": "code",
   "execution_count": 13,
   "metadata": {},
   "outputs": [
    {
     "name": "stdout",
     "output_type": "stream",
     "text": [
      "Document 1 is more relevant\n",
      "Similarity of Document 1 and Query: 0.8165447261910522\n",
      "Similarity of Document 2 and Query: 0.5760569530933125\n"
     ]
    }
   ],
   "source": [
    "# calculating similarities\n",
    "\n",
    "sim_2 = cosine_similarity(query_result, doc2_embd)\n",
    "sim_1 = cosine_similarity(query_result, doc1_embd)\n",
    "\n",
    "if cosine_similarity(query_result, doc2_embd) > cosine_similarity(query_result, doc1_embd):\n",
    "    print(\"Document 2 is more relevant\")\n",
    "else:\n",
    "    print(\"Document 1 is more relevant\")\n",
    "\n",
    "print(f\"Similarity of Document 1 and Query: {sim_1}\")\n",
    "print(f\"Similarity of Document 2 and Query: {sim_2}\")"
   ]
  },
  {
   "cell_type": "markdown",
   "metadata": {},
   "source": [
    "#### Indexing"
   ]
  },
  {
   "cell_type": "code",
   "execution_count": 61,
   "metadata": {},
   "outputs": [],
   "source": [
    "import bs4\n",
    "from langchain.text_splitter import RecursiveCharacterTextSplitter\n",
    "from langchain_chroma import Chroma"
   ]
  },
  {
   "cell_type": "code",
   "execution_count": 21,
   "metadata": {},
   "outputs": [],
   "source": [
    "# loading blog, which will be our document\n",
    "\n",
    "from langchain_community.document_loaders import WebBaseLoader\n",
    "loader = WebBaseLoader(\n",
    "    web_paths=(\"https://lilianweng.github.io/posts/2023-06-23-agent/\",),\n",
    "    bs_kwargs=dict(\n",
    "        parse_only=bs4.SoupStrainer(\n",
    "            class_=(\"post-content\", \"post-title\", \"post-header\")\n",
    "        )\n",
    "    ),\n",
    ")\n",
    "blog_docs = loader.load()"
   ]
  },
  {
   "cell_type": "code",
   "execution_count": 24,
   "metadata": {},
   "outputs": [],
   "source": [
    "# splitting the document using text splitter\n",
    "\n",
    "splitter = RecursiveCharacterTextSplitter(chunk_size=300, chunk_overlap=50)\n",
    "\n",
    "splits = splitter.split_documents(blog_docs)"
   ]
  },
  {
   "cell_type": "code",
   "execution_count": 32,
   "metadata": {},
   "outputs": [
    {
     "data": {
      "application/vnd.jupyter.widget-view+json": {
       "model_id": "024cef4bdde54f03b6db7168ccad9afa",
       "version_major": 2,
       "version_minor": 0
      },
      "text/plain": [
       "Fetching 5 files:   0%|          | 0/5 [00:00<?, ?it/s]"
      ]
     },
     "metadata": {},
     "output_type": "display_data"
    }
   ],
   "source": [
    "# initializing vector store\n",
    "\n",
    "vectordb = Chroma(embedding_function=FastEmbedEmbeddings())\n",
    "\n",
    "retriever = vectordb.as_retriever()"
   ]
  },
  {
   "cell_type": "code",
   "execution_count": 33,
   "metadata": {},
   "outputs": [
    {
     "data": {
      "text/plain": [
       "['fc7543f9-1619-4351-b545-21538cce824a',\n",
       " '1539c176-d0c6-4676-a6d4-ae9eddb033a6',\n",
       " 'c1d00841-ff09-4e09-9d18-cbd881581fa0',\n",
       " '7837d154-2478-4bb0-a0a3-d8ac5c9ffa51',\n",
       " 'd0e6d4db-c822-4a20-9eeb-01bbc49ecddd',\n",
       " 'ba251094-2b89-476a-9a00-20130bf41829',\n",
       " '4d8b2e5b-f5b4-4318-89c4-d9202ec9d971',\n",
       " 'c7d2b346-0d13-4a07-b2b1-392f7972b9c0',\n",
       " 'ee3a6f9f-79ca-47ed-9ed9-a5608918d7ee',\n",
       " '4b651d88-1f98-40b7-8b17-29f93a846382',\n",
       " 'ab725a8a-c324-4439-9676-c4b94b26920d',\n",
       " 'af9cf2af-c64e-4335-b103-1457e7f45576',\n",
       " '4057025d-a5a8-4ba8-8711-26d2f6ed4151',\n",
       " 'd35dd397-5976-470f-9240-9e91069cbb38',\n",
       " 'cb8cd522-37dc-4691-bdb2-ecd8dab72637',\n",
       " 'e19391f1-bc60-4a0d-bddd-e14d87cf99a2',\n",
       " 'fad20f5a-492b-43f7-8eac-e928d2f42820',\n",
       " 'edcb58d6-94c3-45e0-9403-0fa39af5a85f',\n",
       " 'b6baf0aa-471e-4ea1-8095-3ad36cf06bfd',\n",
       " '1db0f853-e01b-4a6d-b8ae-a34897be6459',\n",
       " '13722423-ede6-4084-a375-40fe657342f3',\n",
       " 'e511c208-4d5b-4dfa-b9c7-f19a9668a0c5',\n",
       " '84868319-9b5a-47d8-b7e4-1a46bc3e4892',\n",
       " '392478ec-6771-4627-a6f3-735c8117d4a9',\n",
       " '989e2ff9-fd9d-4565-9a42-06571093646a',\n",
       " 'cdc9825f-3831-4ae5-8611-9b5f1410fc42',\n",
       " '90b9e128-6fb5-4687-a7c3-0fc6f770e46b',\n",
       " 'f19449f9-07e2-40f2-afbf-332b3ce111c9',\n",
       " 'e5a60f6c-9109-4d42-b5ff-53a2be5b6b88',\n",
       " '0f0067fe-d1ad-48e8-bbd4-2b6eee751c82',\n",
       " '07e90a1c-15cf-490e-b55c-54c2c8db0231',\n",
       " '2fe7263a-a35f-42c3-b3ea-7daf724cb2d3',\n",
       " '41b2ac68-de59-4b39-a8d4-100cf5be674e',\n",
       " '534748a6-e5e6-46f3-8b74-90df95e052e3',\n",
       " '6333cc24-a830-4270-9c35-e23ffe6e8c55',\n",
       " '32c92c60-d0dc-4edc-8775-f8b24bda20a0',\n",
       " 'db167d75-c1e9-4002-a37a-aea0d1b1112b',\n",
       " 'd9d6ca14-f22e-4b07-9d39-8a315eafbfb2',\n",
       " 'd112a22a-72e4-45a1-ab94-8da4a5d85b96',\n",
       " 'f6ac2e9e-e963-4b13-a5d7-51f05a8c6292',\n",
       " 'ca64c989-7117-44b5-9463-8feb1e859fa4',\n",
       " 'bcaff229-f306-4b31-88df-c0d1ce7462e3',\n",
       " '3b92ad83-b373-4991-87fc-8a9e9809e105',\n",
       " 'a2d6e6b1-29ad-43de-a2f0-2bd2831b6ea0',\n",
       " '08ace899-3a95-4828-b66d-93f2c5ce97ff',\n",
       " '773f15ff-b67e-4267-bc7b-f88d3f214963',\n",
       " 'e1109d1a-3e7d-45a6-a3e5-861cb39f0a85',\n",
       " '850a9f1f-1d39-4bd5-8c08-4e9e814e2dc6',\n",
       " 'e7093f3e-9fcc-476f-82bf-b0f63c109030',\n",
       " '28723b66-1e26-4da8-b1fb-1cd9ff6f51d4',\n",
       " 'af8f2394-dcd3-43e5-8190-1850ff1214a9',\n",
       " 'a3edb08d-7f57-4e6b-b92f-94288999dc92',\n",
       " '63f7e924-dfb5-4d52-83e9-fa47313a4231',\n",
       " '45a9181e-dc5d-4fde-8a6f-cfa4824b8c2c',\n",
       " '3f01fd68-515b-4fa5-b163-1294f3c8539b',\n",
       " 'a75caeec-1418-47b4-b000-05aff4c484cc',\n",
       " '5410ea08-a34a-49f1-ac41-ca32ae0f89a6',\n",
       " 'ed12273f-13b8-46e6-8e60-eed0e18e7df3',\n",
       " '0ab62064-c65c-49dc-9c83-5f18b05c3ec8',\n",
       " '7e0775ab-502c-4cef-a94c-9093e208ca36',\n",
       " '314ec25f-6222-430a-a6ce-a78f7f527d8d',\n",
       " 'fef0e427-92a1-4c5f-aecf-6015ba159a18',\n",
       " 'f5f8ab2f-1820-42b7-b8da-78a74f443725',\n",
       " '53e5fa0b-fbf5-477c-891b-770127da5426',\n",
       " '9f9fbd05-ece1-4c53-9257-5e4481d92ef6',\n",
       " 'a884fb1f-3dd5-45b0-a36f-92e30fc8ed20',\n",
       " '7f294168-b30c-4974-95ac-337cdad8e25b',\n",
       " 'c2d1ee39-b297-4d13-a7f2-935a29cbdcbb',\n",
       " '42097063-abf7-4975-8d55-2fd576231e30',\n",
       " 'c9286b6b-fe37-4b25-9394-1e43d2eb11b2',\n",
       " '97c4052d-739c-4980-8b52-847e0d76d758',\n",
       " 'f29b0597-170f-4522-a8c3-5c607de68672',\n",
       " 'c514b0ab-bd6a-4bb0-af80-9ba931bfc106',\n",
       " 'b9eb8be9-d5ec-4ed8-8067-91d5ebed4ca0',\n",
       " 'd2f1103f-beae-4940-99b6-f7e09cd8cd0c',\n",
       " '6171d804-4df7-4f1e-adc3-fe0730a0684b',\n",
       " 'e9c335fe-13e2-4e05-b5f9-8182b5d89902',\n",
       " '78da4e3b-45ed-4834-adfd-790025d3a08f',\n",
       " '28dd93fd-0ab4-4bf9-9751-b9de47fe7320',\n",
       " '8e14b7e4-a86e-4642-9721-96a063f779cc',\n",
       " 'cb7b4170-34da-4669-bec2-ae886c87cc83',\n",
       " 'ec0266bd-5199-49ee-9a37-13db7ccccc0b',\n",
       " '9f221eaf-d936-4904-9f89-6b70dccae295',\n",
       " '7ab31a92-121c-4d82-bf64-dd67e5d816be',\n",
       " '1e0f9668-6503-4a3d-b248-5b596147d44d',\n",
       " '09cf5859-e72f-45cb-8f00-d2fc21230604',\n",
       " '44e274f0-8ff3-4886-bccf-128c75770904',\n",
       " 'ee5ebdee-f605-4a97-b506-1932b2d0193a',\n",
       " '5c8ce1b1-e34b-4580-ad67-9809618f4d36',\n",
       " 'b0af3aed-6e04-49df-a83e-37dcc7b88be9',\n",
       " '0a04f407-261f-4f18-b117-e4779c6dfac9',\n",
       " '09b35938-3697-4a69-86df-d7e2e8471d36',\n",
       " '8a59a567-2de3-40fc-88e6-a20600f6f5fe',\n",
       " '47c2e94a-8748-4519-8414-ca7f6b1d8549',\n",
       " '03fadd5e-6330-4a1b-82fc-cdcb73106a1f',\n",
       " '6b3f4a4d-bef2-4a22-90b1-3ff0471cd1bd',\n",
       " 'e90e67e9-8be5-4b04-b946-7ffd27a9df0b',\n",
       " '1d0ae5be-41b3-498b-b979-f1d02672c785',\n",
       " '6108d476-49f5-4dfd-a317-605f868357ae',\n",
       " '329be710-0393-4960-a734-1d68f7a811cf',\n",
       " '4c43e309-dd14-40c5-b74e-da2a40472a80',\n",
       " '15a9858c-1e53-4f57-a49c-cd1c0d8e6ba3',\n",
       " 'f2ffab8c-ceef-4a0f-9b95-4d225c32f40e',\n",
       " 'b8691d3a-eb88-4a7d-88dc-c93cdc444dea',\n",
       " '3968731a-b670-445d-8832-3ace5c635bb6',\n",
       " '83549b1c-c1fe-4f87-8e78-351779b4d458',\n",
       " '545042b3-a493-431e-914f-388e472f2833',\n",
       " 'ef2a688a-d4db-4093-be49-764737d129b0',\n",
       " 'b01f7a75-8d4b-4d13-8c60-e1bf2a061aa4',\n",
       " '72b61947-421a-40e4-bec1-5d41be5ea9fe',\n",
       " '8e7210cd-cea6-4237-b930-2b6cc938ce9e',\n",
       " 'e9eca0f6-a925-4295-9cd7-038520fd2baf',\n",
       " '9f7c46b7-e630-48b6-bf90-15a9d8d90f35',\n",
       " 'fac4ba77-82e0-4882-9637-233443902fa1',\n",
       " '7cd3f2d4-aec7-4bf3-ab36-82fd3bbc450f',\n",
       " '1f10a065-fdb2-422b-8c4a-79d14539b7b1',\n",
       " '834abd54-6d9e-4470-833d-f36ddbdfa2ff',\n",
       " '5075f60f-e81b-41af-9fc0-6109c7de4d86',\n",
       " '4ba599a7-ef57-47ac-ba20-9c67629bc1b5',\n",
       " 'da78b23c-d1fc-4e26-83d6-4e0a3d02cfaa',\n",
       " 'a3ddd41d-00fd-4821-8039-fc50191d2cde',\n",
       " '16e033b5-a486-4cf9-ae44-646e1edb2b57',\n",
       " '004a50ce-cccd-49a4-a44e-b90dbacfb78b',\n",
       " '613adfdb-04a4-4eaa-b947-3994ecbf5b39',\n",
       " '73eeb100-6bd7-464f-ab4a-bf05d893c318',\n",
       " 'db23ac03-e86e-40c1-9b2c-83c7dc0f4d1c',\n",
       " '33f46ed0-f51a-46c8-9323-45a7cc2fe57a',\n",
       " '66137202-3a51-4798-9717-516f4d4f1271',\n",
       " 'e16e3a53-67b8-4c16-bd8f-368927ddda05',\n",
       " '2f2673f1-068a-439a-b3ba-12ccadc9eb62',\n",
       " 'd66ba19a-e50c-4c9b-b791-32cc34fce787',\n",
       " '2c4f1fca-c1fc-4c50-8462-ded28b81e5f5',\n",
       " '3092448c-71a8-40ef-8ee8-4ecaf7081284',\n",
       " '24d2da22-fd67-4f22-a92e-0ab38762ead2',\n",
       " '7ace5d7c-b104-40fb-b1e9-0e2c09108b1e',\n",
       " 'c103210c-7df2-4019-a687-4b9c3982104b',\n",
       " '3f6b2f3d-42e6-4e88-9db7-4ef0ac6644e5',\n",
       " '70258a71-c4df-4af0-b1ae-f65596ec1b75',\n",
       " 'f135103f-aabb-4658-b9ba-4756e8cd2ef7',\n",
       " 'd9907690-a834-41d9-80eb-efe316af6887',\n",
       " '561d6e9d-d37d-4380-ac99-f4117c071d69',\n",
       " 'ee6210e8-59b9-4759-93f1-4ebea8eac487',\n",
       " 'be86fe42-0e9e-4471-8b55-60f8e8459064',\n",
       " 'f19d8a38-945d-411b-ba42-6ec6efe401be',\n",
       " 'b87b3ca0-08be-445b-9af6-0d7c3fa7f912',\n",
       " '2ad87871-46ff-4f16-b27e-0440f8e51e67',\n",
       " 'bb6a0fd7-10e2-4355-a7dd-94fcd39e03b7',\n",
       " '2cab11f9-ab5c-4079-8a7c-b5102425ca80',\n",
       " 'f01fd38a-bec7-44f6-895a-49f0ef6b94d7',\n",
       " '03d65805-2f1f-4bf3-b553-2af1923248b4',\n",
       " '99e99f01-ffa0-4603-9859-05a65c30f72d',\n",
       " 'f796a581-8197-4c31-9858-d8956e5af413',\n",
       " '216b470c-7bf3-446d-acc4-1c293f572954',\n",
       " '9920f0ad-57cb-4893-9d6f-bfd5bb7ac625',\n",
       " '2665787f-f48b-4e85-a1c0-b4c95d390482',\n",
       " 'ec10dcee-9686-4895-a3fc-cb62d72e830a',\n",
       " '6e0f3777-a979-4508-9030-66d69a3ce16b',\n",
       " '15343f54-21a7-4bb3-83dc-2868ec105f8d',\n",
       " '718af4e0-1e13-48ca-ba12-2e82f50ab243',\n",
       " 'd1df1ceb-2aa7-43ac-9c2a-2401123910cc',\n",
       " 'd144e4a8-9251-40d7-b32d-8fb2f22c306c',\n",
       " '5cc00b51-5c9c-426e-be6c-79747e0faca0',\n",
       " '963a4dc5-a1bb-4bc8-a550-81882f40280d',\n",
       " 'd2d8b285-6545-4119-98cf-3111dc64a853',\n",
       " 'dd90c8b0-a05f-4eb0-a73e-074240c83234',\n",
       " 'c833ddfd-a44a-40c3-9b6a-ce40b38d9418',\n",
       " '64644ceb-aa10-4d1e-a528-d03915da0cb7',\n",
       " '3232f288-6eab-44b2-ad67-e850b99588b1',\n",
       " '5a5dda8e-480c-4257-890c-fe4ee3f003f5',\n",
       " 'cc0bfc61-a761-4f90-bc02-822ba8457d76',\n",
       " 'de4c6a5a-dd67-4d87-8366-4f7326a17678',\n",
       " '0da49dbb-949c-46e6-8c1c-bcd733ff19f3',\n",
       " '3526469b-d6bb-4169-a95a-161d4cad0e15',\n",
       " 'd6ac448f-b12b-4242-b31e-923967367ee2',\n",
       " 'e6dfcdd9-7e3f-4a87-8e97-b79d780b207a',\n",
       " 'c8929d46-1c2f-4e79-a618-4fe9f8cecb94',\n",
       " 'f8fe0ce9-fea0-4268-badc-c40fe3cbfa21',\n",
       " '84e2d535-c404-422e-9420-fe1ee2e79a84',\n",
       " 'df204507-3969-47a5-b3c6-61da1bd6a885',\n",
       " 'f3871a30-3a75-4c4f-891c-029735b44b0d',\n",
       " '0f6a523c-54c2-4f51-9d7b-2793b413c937',\n",
       " 'ce7f95b2-ef85-4802-81ad-f804b871d638',\n",
       " 'c35716ba-a433-4a89-9821-2ff5a5de76b0',\n",
       " 'e8a86a12-86b6-4f9a-8ec7-f9a543291dec',\n",
       " '028d95e7-a8b9-487a-ba0f-17a2d5f699cb',\n",
       " '790e43ed-85ba-4fe6-97f8-81c3b86c02fe',\n",
       " '6e9e72d7-bea6-462c-a57a-aec489d778da',\n",
       " '6f379bc9-2aa8-4c34-b9a6-50516ca5ac15',\n",
       " '394b96aa-0480-4cb5-9ea6-9bea1b7c050c',\n",
       " 'ccee68e6-359e-4bfe-96a2-065d6608cdea',\n",
       " '349455fa-b273-48e0-aab4-0ec39b744704',\n",
       " 'c8792b41-277d-4ff5-8ee2-9aa5fde287d3',\n",
       " '130c63ec-55ec-4590-bce5-22fa69c131d7',\n",
       " 'b97037a4-a8fe-4913-9f02-4834074d4f2b',\n",
       " '737b208f-7c07-430b-8981-84875eafa87d',\n",
       " 'c6236dd3-d0b9-4d9d-813c-d0d7c7c0ceb0',\n",
       " 'b061ef3a-4cdc-49c9-8aa3-7d12e1007672',\n",
       " '04e7fa9d-cc43-4857-a8da-29c6bd9ad2ae',\n",
       " 'f02ffdd9-1bf1-43bc-b4a7-39d1d014c966',\n",
       " '06336e15-4a26-4575-9998-da32da73af8b',\n",
       " '6af218dd-4453-4981-993c-14191a74a263',\n",
       " 'a8f8b538-068d-4bf9-b92d-2d27428f1b38',\n",
       " 'fea6562a-c1aa-4265-8ec9-66b11ca710ba',\n",
       " '82b2d87d-6920-4b28-a78d-e94e7f37a0df',\n",
       " '147be7f0-68e4-48c6-bf50-ae99a474f958',\n",
       " '555f8939-b98c-4083-90cb-506e3468b504',\n",
       " 'dde65842-ed73-4953-a8fa-f59f3e552fb2',\n",
       " 'c1c5290e-7a57-43d4-9c48-03c66a881b39',\n",
       " '5a31ace4-9bf9-4920-9624-e570bbfd083e',\n",
       " 'c48c22ae-a5f9-46ba-9ae0-ee12c194cd26',\n",
       " 'e7fbf7bc-6ea0-4720-971a-10272ef4e8c9',\n",
       " '13ca7db6-b0bf-4805-820a-eea1e74d17bd']"
      ]
     },
     "execution_count": 33,
     "metadata": {},
     "output_type": "execute_result"
    }
   ],
   "source": [
    "retriever.add_documents(splits) # indexing documents"
   ]
  },
  {
   "cell_type": "markdown",
   "metadata": {},
   "source": [
    "#### Retrieval"
   ]
  },
  {
   "cell_type": "code",
   "execution_count": 42,
   "metadata": {},
   "outputs": [
    {
     "data": {
      "application/vnd.jupyter.widget-view+json": {
       "model_id": "27a76922a73c49729bedea3a612976ab",
       "version_major": 2,
       "version_minor": 0
      },
      "text/plain": [
       "Fetching 5 files:   0%|          | 0/5 [00:00<?, ?it/s]"
      ]
     },
     "metadata": {},
     "output_type": "display_data"
    },
    {
     "data": {
      "text/plain": [
       "['299159eb-36b2-46af-b3fe-da82d05eb62c',\n",
       " '889181fb-0f39-4c58-8e40-26eb566a25b3',\n",
       " 'af0b0b9a-fc7c-4689-beef-38bd64dc6f64',\n",
       " 'ce77de98-44b8-4776-95dc-5fa7d0bc0566',\n",
       " '7e548066-9482-4a6e-b0cf-084f491c5290',\n",
       " '329f977c-3dff-4c20-86c2-a27e7fe172db',\n",
       " '66be261c-da4e-4cf4-b6af-da9b620d4afa',\n",
       " 'ea18a6bf-1b6b-41ce-8a0f-8a4e5df1073c',\n",
       " '30173a09-dfbf-4742-8d3d-c92fa1313442',\n",
       " 'b38554fd-5d05-4cf1-8a48-1eb1f9400e01',\n",
       " '3d564ace-f8c9-4e3b-9850-84ddc32f3353',\n",
       " 'a66c121d-923e-4055-a567-4a1d129ea39a',\n",
       " 'd08844a0-39a8-4c96-8d13-fa90950778f8',\n",
       " 'f76c2600-bccf-4c81-ad22-89007b79ab49',\n",
       " '082e83e5-204c-4cff-a12b-fa5ff6b247fb',\n",
       " '502d7d70-86cb-4def-8d76-36d5e0ecdb53',\n",
       " 'a5354517-82f1-4f3d-876f-cfdef51e6d90',\n",
       " '707cb7f8-f908-42c5-9fb0-2bb613cc8584',\n",
       " '6fa69977-8672-4596-a7dc-9674e3e885e5',\n",
       " '03010c85-343d-4524-be89-08ece5620913',\n",
       " 'f006824f-3457-45ad-bfe2-c7b0310c6595',\n",
       " '711893cb-1778-4eb8-a4eb-9442773ca9f8',\n",
       " '61acaf5c-a723-49f5-a0b2-db504096bc0d',\n",
       " 'a6443253-85eb-46de-a096-2f1dbf9183c0',\n",
       " 'c0de6145-526e-400f-9822-920ebebc093e',\n",
       " 'ebd5f587-9d2c-4ff5-8381-89421a6fbc9d',\n",
       " 'fa6e2cde-ec2b-465f-9008-f2812b3358ac',\n",
       " '8f8a8331-c550-4e3b-a0e5-e66f4fe19340',\n",
       " 'e5121c36-0a27-4d53-babc-08f4f7f4ac66',\n",
       " '2765c5d6-52d6-4c1b-8924-d66eca91ae6a',\n",
       " '51f42fa3-e6b1-4735-b87c-1049c10804a1',\n",
       " '8fdabb09-d751-4085-a0c0-d87a4ce17e66',\n",
       " 'fbead9ca-56f3-41e1-9b27-3252fb2fed11',\n",
       " '45284054-ef36-4f5c-beff-4f863f3c8605',\n",
       " 'a3fb4013-2e20-4619-af0b-dbade0dddece',\n",
       " '1ffe205e-fae1-4d57-b708-d87c40f65d3a',\n",
       " 'f5582d02-fc6f-48f0-b069-ec8103374999',\n",
       " 'fc9fecbb-7192-422a-a216-d7ed4407180e',\n",
       " '5168c2ab-ba9f-4773-a80e-63daf07bcbae',\n",
       " '8c710eb9-8fd7-45c8-8e99-275f7c344687',\n",
       " '05fe471b-f209-410a-b6d3-1ec843284d8e',\n",
       " 'f410eef6-3250-4a3c-b2bc-f4ae3efe12d5',\n",
       " '4b6e1080-033e-4dbb-a760-44bc5845411e',\n",
       " 'caeb2852-1355-4a92-89ca-34fb6749e832',\n",
       " 'fb9d0a16-6add-490a-a2a6-a74c2f8b7f07',\n",
       " 'ee63b0c6-a121-4d07-9ffd-e3a090991d8d',\n",
       " '662474d8-25e2-4919-bfa6-92095f533760',\n",
       " 'c0bbb970-c209-4c39-8708-12b573ed0e60',\n",
       " '9c43fbf5-6dd7-4922-b12e-84f58820e168',\n",
       " 'b31471c2-5a3d-4bd8-b2bf-0abf5d806fee',\n",
       " '8fad8928-5058-4703-be97-e8e1fb1d8296',\n",
       " '821b4630-69ac-457b-adae-29d04618295f',\n",
       " '7d2a02dc-c82a-4d40-9b9d-20ab1627d9a1',\n",
       " '230bf007-4a60-49cc-a381-d470a09fcc18',\n",
       " 'd1f6535c-dc70-4735-a322-01688a75faa1',\n",
       " '998e24c6-a007-47e0-bbfa-9ef541ccb14d',\n",
       " 'da660193-bda6-485a-8126-b4a4dc456a46',\n",
       " 'c7e9318b-398f-4bf3-8d68-4010c9a7c729',\n",
       " '12dc066e-b5fc-4903-9fd3-0a2f97f402ea',\n",
       " '84fd68df-a3bf-4a27-8b12-421d8c6bb2a1',\n",
       " '88b8a5ce-b1b1-455e-80e9-3a5f8e40a7f1',\n",
       " '2c782031-7bb2-48df-be82-36e2cff99775',\n",
       " 'a7066ec3-bd9e-4ea1-8256-3effe397a854',\n",
       " 'bb450f20-fc08-41ce-a6ce-20df07363620',\n",
       " 'fd32bd69-b0cc-4529-ada3-4c723aed543d',\n",
       " 'fdd9932b-e195-4f93-afc4-7691a9c7dac9',\n",
       " '2677bf45-cb17-4d4e-84e5-bbe021686f0b',\n",
       " 'f26ca8f5-daa0-43ce-99e6-82d52deb364a',\n",
       " '18397358-dded-49d9-9bb8-d0979134e194',\n",
       " 'b90a123a-a35a-438e-944d-0f1c1ea8a799',\n",
       " '851010e7-b689-440b-930f-d85a529aa158',\n",
       " '512ab865-a6a7-4868-9856-d49feff530a8',\n",
       " 'a39c7965-ed8c-4c9f-be66-378248f0279c',\n",
       " 'd2f106dd-fd50-4123-b9ad-0938aaca7781',\n",
       " '55feb0c0-04ef-4802-adea-26a79403a2a6',\n",
       " '69a73280-f77e-4bc0-af27-138db61e9278',\n",
       " 'd2cadf70-2a8c-4072-9baa-729be39f60b4',\n",
       " '357bc7e9-9e7f-489d-b726-d0f763e43b83',\n",
       " '34ef9a9d-caf5-48e5-9575-7d232ebd079b',\n",
       " 'e97f482f-62bd-4c7b-8e13-bb40555e79ed',\n",
       " 'd5043985-1cd1-4a05-9de8-ae09960e2390',\n",
       " '3aa7e27f-41c1-418a-ada6-7b9439120c01',\n",
       " '31961778-d463-4dd9-90c1-19efbc3fae21',\n",
       " '081f36c8-e7fe-4d85-b76a-40024130f749',\n",
       " '417b477d-c03c-4aa5-89aa-538d42e3f4d1',\n",
       " 'b1967eba-85fb-4148-a94e-e39def74a983',\n",
       " '1bb0ebdd-3a3c-4f1b-9895-deea281cff2b',\n",
       " '152dcaab-22f2-4d93-b5fb-f94609b70635',\n",
       " 'de86a2c3-ba1f-41f2-bc65-a06068bc8f41',\n",
       " '625fa959-b8be-44e4-a119-a0d4c40f8139',\n",
       " '0b24d5da-7757-41f2-87c8-477353e9db1c',\n",
       " 'a5770271-0b83-4a75-8615-2976be8d42d7',\n",
       " '3bc7e45e-d3af-4539-9742-2ce65cbaa4d2',\n",
       " '0c1b6342-ddd6-4b54-8143-acff5ea21b25',\n",
       " 'ce227970-53ac-4cb4-a9c0-7dc7d88ec5e3',\n",
       " 'f5e55704-c2c3-4c46-9761-87efc873fd0d',\n",
       " 'cefad767-d6ae-49d8-b5e5-ad24de0f4428',\n",
       " '18c7061b-f768-485b-8ec8-fde77d1c2722',\n",
       " 'a50131a9-de81-4e1a-989b-0d986b73f792',\n",
       " '9efd27c6-f12b-4b4f-97bb-d3aa0caee1dc',\n",
       " 'bd8968a2-df32-43e9-b2e9-06ec64893ba5',\n",
       " '08f05482-3e4b-4acf-8a84-5b041138d023',\n",
       " '3ee751dd-ca09-42c0-a7ad-77ebecca19db',\n",
       " '514fb968-91a2-48b2-92bc-ffd9acc7bfc4',\n",
       " '5947efb8-470d-4ab3-a715-6eb9970b3bba',\n",
       " 'e695e0a0-d20c-4b6b-9c45-54a2be842add',\n",
       " '3cd8ae94-8cb0-47cc-8a0a-14882e4b8d5d',\n",
       " '1ff33ca6-3b1f-48c1-a4c3-f8d8288714a8',\n",
       " 'e511d4ce-eb91-4c9b-b189-1b92a7585295',\n",
       " 'ecc6cd26-4784-41b4-8be7-e75e6ce6b121',\n",
       " '71d58b5b-c53d-4ac9-93b7-5085ff5a7ae8',\n",
       " '2891973a-df50-4ca4-b770-6780495fdd29',\n",
       " '7c6c3ee6-b217-4dbb-a095-307b5c6a4a9d',\n",
       " '713177da-b4d5-47ef-a29b-4c80e9c49dd6',\n",
       " '755c509b-9d30-464e-a7db-870065dff217',\n",
       " '3bd1c11d-66ad-4d15-9b16-1d2f8a7b2cbd',\n",
       " 'c0fbc7dd-704f-4904-88e1-c01e1012d2db',\n",
       " 'be28e951-b82d-4f34-b973-dfde328af1f6',\n",
       " '5002f86c-1e3f-48d4-ba30-c904edddd338',\n",
       " '6910f278-fc80-4c23-8b0d-d2d25090c543',\n",
       " 'e91010d6-1b49-4b75-b6a5-2dce8de9ec9d',\n",
       " '44b00cc8-4293-4d59-b34d-bc1fc71729e9',\n",
       " '143ef4d4-c799-4edd-9a4a-6a40a67b7fb0',\n",
       " '91de8d3c-4c21-47a0-bbec-4eea7d73a85a',\n",
       " '56131e0e-9be2-4516-bd2a-da9e538789fc',\n",
       " '65cf067d-12f5-465b-9790-3047f1869d28',\n",
       " 'c81f8579-24f8-420f-9032-ebe2d4d4f2ee',\n",
       " '14f2e9b6-1634-4a42-a3ae-08de68323e8f',\n",
       " '5c517713-7a01-483a-a89b-55d13e37f483',\n",
       " 'b1ff4772-e7f8-4cf0-8c98-05875eea71cc',\n",
       " 'dfcac876-dab1-4586-b41d-6c1eea1817b2',\n",
       " '147b1105-64ad-448d-bc68-2bf382300e00',\n",
       " '6b59c07a-4b1b-4754-b987-89a41561bb6b',\n",
       " '03227ae0-1796-46e6-937d-86aecf2bf222',\n",
       " '0fe9a2ee-4c05-486b-89d3-bf9ff7b7be0e',\n",
       " 'f84c0e79-50cc-40d4-92ba-41895db5a942',\n",
       " '4dd0e1db-4bcb-4743-b5c2-3c985a33e3c7',\n",
       " 'b83ea5c4-8467-40f3-9e3c-ff5a7a68b83b',\n",
       " 'bed347b0-4d3a-4b26-8812-280b4508d7cc',\n",
       " '1951dd10-79ba-44b5-9a60-037e9a5c63b1',\n",
       " '5ceb0582-39da-49a1-81f0-f871203b7af1',\n",
       " '70e2dde2-9586-49fc-a34e-c2600187a10d',\n",
       " '82e97255-62aa-4c94-acb2-84201a71cfcd',\n",
       " 'cd517e39-3616-402f-b73a-7134dafa45cf',\n",
       " 'c92136ec-e5a3-45e6-bb93-4d2250523ee7',\n",
       " '031e5e92-9dcd-41c0-8ed3-ff4ed03411b5',\n",
       " '7056ec31-c9e1-4b71-9a27-6781260f3f0e',\n",
       " 'a0e3d68f-869b-4cd7-8363-adf91cf99148',\n",
       " '4271306f-8d69-46a9-a8a4-42c53fcdaae8',\n",
       " '312999b7-53d5-47b8-96a8-950f79965374',\n",
       " '9cd6ce57-c472-4531-84ce-498905fa3828',\n",
       " 'cf67a34c-cf40-46bf-8928-6a4d88cf1e54',\n",
       " 'e6d35665-ec25-4c8a-a49e-44976c279a68',\n",
       " 'dccc8283-6bc8-49c5-af00-8fbea6cff7e9',\n",
       " 'e75c061a-0821-49c1-b94f-39504faf8de2',\n",
       " 'e87ec782-2630-4005-81b0-3d977ff15a7b',\n",
       " 'eab43ba6-fd28-4e0d-9cf6-31aeeeecfd05',\n",
       " 'ccc25185-107d-4289-954e-073a4090901a',\n",
       " '8fb2e498-a940-4700-8502-1807a55559b9',\n",
       " '3f8f0f41-bc78-4cd1-a5ea-d33726d2fb95',\n",
       " '9af22ce6-7ec4-49c2-a530-5fa126c56676',\n",
       " '8a47fae0-7132-49b3-963e-4770c3b361f9',\n",
       " '361be5f2-a2ef-46f6-ad07-7872970da9ea',\n",
       " '148e3cd0-02df-49fb-9567-123eb7c80cef',\n",
       " '3315b91a-f675-4e2a-9246-ec1c75de22dd',\n",
       " '320ea81f-301c-4f65-81f5-55436ad64729',\n",
       " '541b4a54-e94f-4bc7-9c3c-de73654d5a04',\n",
       " '6a751441-18d0-4fdc-93ca-43176eea8323',\n",
       " 'bb6d77a0-ba3e-4524-81be-a8e28dd26225',\n",
       " '97fc6f28-c346-45b7-8ba5-b0b5014aea21',\n",
       " 'fe995c92-7fc0-4a1b-be5f-8efff19e1e17',\n",
       " 'abb8856d-510b-4237-aadf-187a11851c92',\n",
       " 'e49228a6-527a-4536-b6fd-00609406f3d9',\n",
       " '7b4e14c9-fb7c-4d6f-b2ab-e68f9f346842',\n",
       " 'ca8afe4a-7966-4527-880b-20a3fedf6a85',\n",
       " '018bb9aa-0212-4a66-a104-89208473d9c6',\n",
       " 'beb547b2-b161-4633-979b-b20e436ca8fa',\n",
       " '4359e6ea-6b6e-459d-94f5-5568e3c442a8',\n",
       " '9ae5ef87-9d28-4b69-aee0-b3623bbb5dcf',\n",
       " 'e6b368bc-f6a3-4eb7-af8d-b363b561ccc4',\n",
       " '28ec8a7b-80b9-42ac-872d-ce2ce178d12d',\n",
       " 'f298770f-8e29-4530-9829-9d115d6f4b45',\n",
       " '6c3d2053-3a70-4c2b-a118-7cf14cd7788a',\n",
       " 'e3e60f9c-7ce0-4d20-9dd1-7f42d9d561da',\n",
       " '4d6d3d03-d0d6-431f-a4b5-0645b06cc18a',\n",
       " 'a5ebb68d-7648-4969-8528-cfd01660700a',\n",
       " '120dbaa6-7df7-4c82-bf4f-5922bdf5b013',\n",
       " '1ab51cbd-4dde-4693-8acf-dda370ef4515',\n",
       " '23509272-31a1-4e71-b94a-8538b667f23e',\n",
       " '841aa992-69ba-46be-ba6d-2a073af1a382',\n",
       " '6115d5fb-2965-47f7-a7ae-ce51d3d5d31f',\n",
       " 'ea171c19-f6e2-498d-be7d-287b8f43844d',\n",
       " 'ad708a8a-2c0f-4cdb-b965-d7b505506177',\n",
       " '60b97948-6a2b-45d8-934c-1b9ce0094d5e',\n",
       " 'bc936c0b-c681-477f-8325-8ecb980ce0b2',\n",
       " 'be974a7e-a881-47c6-8204-887109373a5e',\n",
       " '3eb51da6-9037-4918-b0ab-23a3973fa45a',\n",
       " 'ddcdf6a4-627f-4781-b6a6-134527c3f82f',\n",
       " 'af772a02-a929-4af1-b59c-e70ef9bb1193',\n",
       " '76e50a78-f08f-4c00-bc6f-52589dc435c8',\n",
       " '5c6d4799-1138-4229-9a5e-4887651f15af',\n",
       " '8536468f-a48e-43cb-a79a-c6ff18988fce',\n",
       " 'd570fe38-9931-4838-8547-ffcadb6c53a9',\n",
       " 'def7e452-1d6d-488a-91f1-409f778b37eb',\n",
       " 'd0d7003c-7068-4356-af35-aca041b1026a',\n",
       " '0204f501-fcb3-42a7-b7a1-ebb678141fda',\n",
       " 'afce4ab1-4a72-4c84-90b3-d3f8bfe6874d',\n",
       " 'a264b79f-20cd-4f85-a916-90b08e4b346a',\n",
       " 'a7f9f5fd-9b46-4a7c-85b4-11a315e8e61c',\n",
       " 'ce4c3136-146d-4ab9-aa68-5fcb8772e09c',\n",
       " 'df790502-9378-43dd-b4f1-567f05514b9d',\n",
       " 'ceb8003d-fa12-472c-a91d-23e0f7a0f846']"
      ]
     },
     "execution_count": 42,
     "metadata": {},
     "output_type": "execute_result"
    }
   ],
   "source": [
    "#initializing vectorstore\n",
    "\n",
    "vectordb = Chroma(embedding_function=FastEmbedEmbeddings())\n",
    "\n",
    "retriever = vectordb.as_retriever(search_kwargs={'k':1}) # k nearest documents will be retrieved\n",
    "retriever.add_documents(splits)"
   ]
  },
  {
   "cell_type": "code",
   "execution_count": 43,
   "metadata": {},
   "outputs": [],
   "source": [
    "doc = retriever.get_relevant_documents('What is Task Decomposition') # performing semantic search to get relevant doc"
   ]
  },
  {
   "cell_type": "code",
   "execution_count": 41,
   "metadata": {},
   "outputs": [
    {
     "data": {
      "text/plain": [
       "1"
      ]
     },
     "execution_count": 41,
     "metadata": {},
     "output_type": "execute_result"
    }
   ],
   "source": [
    "len(doc) # 1 doc retrieved, as expected, since k is 1"
   ]
  },
  {
   "cell_type": "code",
   "execution_count": 50,
   "metadata": {},
   "outputs": [
    {
     "name": "stdout",
     "output_type": "stream",
     "text": [
      "Task decomposition can be done (1) by LLM with simple prompting like \"Steps for XYZ.\\n1.\", \"What are the subgoals for achieving XYZ?\", (2) by using task-specific instructions; e.g. \"Write a story outline.\" for writing a novel, or (3) with human inputs.\n"
     ]
    }
   ],
   "source": [
    "print(doc[0].page_content)"
   ]
  },
  {
   "cell_type": "markdown",
   "metadata": {},
   "source": [
    "#### Generation"
   ]
  },
  {
   "cell_type": "code",
   "execution_count": 83,
   "metadata": {},
   "outputs": [],
   "source": [
    "from langchain_groq import ChatGroq\n",
    "from langchain.prompts import ChatPromptTemplate\n",
    "from langchain_core.output_parsers import StrOutputParser\n",
    "from langchain_core.runnables import RunnablePassthrough"
   ]
  },
  {
   "cell_type": "code",
   "execution_count": 63,
   "metadata": {},
   "outputs": [],
   "source": [
    "# creating the prompt template\n",
    "\n",
    "template = \"\"\"Answer the question based on the following context:\n",
    "{context}\n",
    "\n",
    "Question: {question}\n",
    "\"\"\"\n",
    "\n",
    "prompt = ChatPromptTemplate.from_template(template=template)"
   ]
  },
  {
   "cell_type": "code",
   "execution_count": 77,
   "metadata": {},
   "outputs": [],
   "source": [
    "llm = ChatGroq(model=\"llama-3.1-8b-instant\", temperature=0) # we will be using the model Llama 3.2 Groq"
   ]
  },
  {
   "cell_type": "code",
   "execution_count": 80,
   "metadata": {},
   "outputs": [],
   "source": [
    "# defining a chain\n",
    "\n",
    "chain = prompt | llm"
   ]
  },
  {
   "cell_type": "code",
   "execution_count": 79,
   "metadata": {},
   "outputs": [
    {
     "data": {
      "text/plain": [
       "'Task decomposition is the process of breaking down a complex task into smaller, more manageable subtasks or steps.'"
      ]
     },
     "execution_count": 79,
     "metadata": {},
     "output_type": "execute_result"
    }
   ],
   "source": [
    "# invoke the chain, by passing in the context and the question\n",
    "\n",
    "chain.invoke({'context':doc, 'question':\"What is Task Decomposition\"}).content"
   ]
  },
  {
   "cell_type": "code",
   "execution_count": 84,
   "metadata": {},
   "outputs": [],
   "source": [
    "# now we will automate all this work with a RAG chain\n",
    "\n",
    "rag_chain = (\n",
    "    {\"context\": retriever, \"question\": RunnablePassthrough()}\n",
    "    | prompt\n",
    "    | llm\n",
    "    | StrOutputParser()\n",
    ")"
   ]
  },
  {
   "cell_type": "code",
   "execution_count": 87,
   "metadata": {},
   "outputs": [
    {
     "data": {
      "text/plain": [
       "'Task decomposition is the process of breaking down a complex task into smaller, more manageable subtasks or subgoals.'"
      ]
     },
     "execution_count": 87,
     "metadata": {},
     "output_type": "execute_result"
    }
   ],
   "source": [
    "rag_chain.invoke(\"What is Task Decomposition?\")"
   ]
  }
 ],
 "metadata": {
  "kernelspec": {
   "display_name": "rag_from_scratch",
   "language": "python",
   "name": "python3"
  },
  "language_info": {
   "codemirror_mode": {
    "name": "ipython",
    "version": 3
   },
   "file_extension": ".py",
   "mimetype": "text/x-python",
   "name": "python",
   "nbconvert_exporter": "python",
   "pygments_lexer": "ipython3",
   "version": "3.12.7"
  }
 },
 "nbformat": 4,
 "nbformat_minor": 2
}
